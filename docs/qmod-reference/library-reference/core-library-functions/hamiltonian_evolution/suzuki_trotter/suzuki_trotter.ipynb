# Suzuki Trotter
<center>
[View on GitHub :material-github:](https://github.com/Classiq/classiq-library/tree/main/functions/qmod_library_reference/qmod_core_library/hamiltonian_evolution/suzuki_trotter/suzuki_trotter.ipynb){ .md-button .md-button--primary target='_blank'}
[Experiment in the IDE :material-microscope:](https://platform.classiq.io/dsl-synthesis#functions/qmod_library_reference/qmod_core_library/hamiltonian_evolution/suzuki_trotter/suzuki_trotter.qmod){ .md-button .md-button--primary target='_blank'}
</center>

The `suzuki_trotter` function produces the Suzuki-Trotter product for a given order and repetitions.

Function: `suzuki_trotter`

Arguments:

- `pauli_operator`: `CArray[PauliTerm]`

- `evolution_coefficient`: `CReal`

- `order`: `CInt`,

- `repetitions`: `CInt`,

- `qbv`: `QArray[QBit]`

## Example


```python
from classiq import (
    CReal,
    Output,
    Pauli,
    PauliTerm,
    QArray,
    QBit,
    allocate,
    create_model,
    qfunc,
    suzuki_trotter,
    synthesize,
    write_qmod,
)


@qfunc
def main(a: CReal, x: CReal, qba: Output[QArray[QBit]]):
    allocate(3, qba)
    suzuki_trotter(
        [
            PauliTerm(pauli=[Pauli.X, Pauli.X, Pauli.Z], coefficient=a),
            PauliTerm(pauli=[Pauli.Y, Pauli.X, Pauli.Z], coefficient=0.5),
        ],
        evolution_coefficient=x,
        order=1,
        repetitions=1,
        qbv=qba,
    )


qmod = create_model(main)
write_qmod(qmod, "suzuki_trotter")
qprog = synthesize(qmod)
```

## References

<a name="Trotter-Suzuki">[1]</a> N. Hatano and M. Suzuki, Finding Exponential Product Formulas of Higher Orders, (2005). [https://arxiv.org/abs/math-ph/0506007](https://arxiv.org/abs/math-ph/0506007)