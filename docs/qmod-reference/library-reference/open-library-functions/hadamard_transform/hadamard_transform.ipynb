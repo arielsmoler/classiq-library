# Hadamard Transform
<center>
[View on GitHub :material-github:](https://github.com/Classiq/classiq-library/tree/main/functions/qmod_library_reference/classiq_open_library/hadamard_transform/hadamard_transform.ipynb){ .md-button .md-button--primary target='_blank'}
[Experiment in the IDE :material-microscope:](https://platform.classiq.io/dsl-synthesis#functions/qmod_library_reference/classiq_open_library/hadamard_transform/hadamard_transform.qmod){ .md-button .md-button--primary target='_blank'}
</center>

The Hadamard transform function applies an H gate on each qubit of the register inputted to the function.

Function: `hadamard_transform`

Arguments:

- `target`: `QArray[QBit]`

The `target` quantum argument is the quantum state on which we apply the Hadamard Transform.


## Example


```python
from classiq import (
    Output,
    QArray,
    QBit,
    allocate,
    create_model,
    hadamard_transform,
    qfunc,
)


@qfunc
def main(x: Output[QArray[QBit]]):

    allocate(3, x)
    hadamard_transform(x)


qmod = create_model(main)
```


```python
from classiq import synthesize, write_qmod

write_qmod(qmod, "hadamard_transform")
qprog = synthesize(qmod)
```