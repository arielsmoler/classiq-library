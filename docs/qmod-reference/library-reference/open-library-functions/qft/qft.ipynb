# Quantum Fourier Transform
<center>
[View on GitHub :material-github:](https://github.com/Classiq/classiq-library/tree/main/functions/qmod_library_reference/classiq_open_library/qft/qft.ipynb){ .md-button .md-button--primary target='_blank'}
[Experiment in the IDE :material-microscope:](https://platform.classiq.io/dsl-synthesis#functions/qmod_library_reference/classiq_open_library/qft/qft.qmod){ .md-button .md-button--primary target='_blank'}
</center>

The quantum Fourier transform (QFT) function is the quantum analog for 
discrete Fourier transform. It is applied on the quantum register state vector.

The state vector `x` is transformed to `y` in the following manner:


$$y_{k} = \frac{1}{\sqrt{N}} \sum_{j=0}^{N-1} x_j e^{2\pi i \frac{jk}{N}}$$


Function: `qft`

Arguments:

- `target`: `QArray[QBit]`

The `target` quantum argument is the quantum state on which we apply the QFT.

## Example


```python
from classiq import Output, QArray, QBit, allocate, create_model, qft, qfunc


@qfunc
def main(x: Output[QArray[QBit]]):

    allocate(4, x)
    qft(x)


qmod = create_model(main)
```


```python
from classiq import synthesize, write_qmod

write_qmod(qmod, "qft")
qprog = synthesize(qmod)
```