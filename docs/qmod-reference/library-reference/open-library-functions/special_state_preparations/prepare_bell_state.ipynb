# Bell State Preparation
<center>
[View on GitHub :material-github:](https://github.com/Classiq/classiq-library/tree/main/functions/qmod_library_reference/classiq_open_library/special_state_preparations/prepare_bell_state.ipynb){ .md-button .md-button--primary target='_blank'}
[Experiment in the IDE :material-microscope:](https://platform.classiq.io/dsl-synthesis#functions/qmod_library_reference/classiq_open_library/special_state_preparations/prepare_bell_state.qmod){ .md-button .md-button--primary target='_blank'}
</center>

The `prepare_bell_state` function creates one of the four Bell states


$$\phi_{+} = \frac{1}{2} \left(|00\rangle + |11\rangle \right)$$



$$\phi_{-} = \frac{1}{2} \left(|00\rangle - |11\rangle \right)$$



$$\psi_{+} = \frac{1}{2} \left(|01\rangle + |10\rangle \right)$$



$$\psi_{-} = \frac{1}{2} \left(|01\rangle - |10\rangle \right)$$


Function: `prepare_bell_state`

Arguments:

- `state_num: CInt`

- `q: Output[QArray[QBit]]`

## Example
The `prepare_bell_state` function creates 


$$\psi_{+} = \frac{1}{2} \left(|01\rangle + |10\rangle \right)$$


`state_num` is set to 2


```python
from classiq import Output, QArray, QBit, create_model, prepare_bell_state, qfunc


@qfunc
def main(x: Output[QArray[QBit]]):
    prepare_bell_state(2, x)


qmod = create_model(main)
```


```python
from classiq import synthesize, write_qmod

write_qmod(qmod, "prepare_bell_state")
qprog = synthesize(qmod)
```