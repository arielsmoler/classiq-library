# GHZ State Preparation
<center>
[View on GitHub :material-github:](https://github.com/Classiq/classiq-library/tree/main/functions/qmod_library_reference/classiq_open_library/special_state_preparations/prepare_ghz_state.ipynb){ .md-button .md-button--primary target='_blank'}
[Experiment in the IDE :material-microscope:](https://platform.classiq.io/dsl-synthesis#functions/qmod_library_reference/classiq_open_library/special_state_preparations/prepare_ghz_state.qmod){ .md-button .md-button--primary target='_blank'}
</center>

Use the `prepare_ghz_state` function to create a Greenberger-Horne-Zeilinger (GHZ) state.
i.e., a balanced superposition of all ones and all zeros, on an arbitrary number of qubits.

## Syntax

Function: `prepare_ghz_state`

Arguments:

- `size: CInt`

- `q: Output[QArray[QBit]]`

## Example
`prepare_ghz_state` on 5 qubits



```python
from classiq import Output, QArray, QBit, create_model, prepare_ghz_state, qfunc


@qfunc
def main(x: Output[QArray[QBit]]):
    prepare_ghz_state(5, x)


qmod = create_model(main)
```


```python
from classiq import synthesize, write_qmod

write_qmod(qmod, "prepare_ghz_state")
qprog = synthesize(qmod)
```